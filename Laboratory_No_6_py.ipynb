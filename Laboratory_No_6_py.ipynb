{
  "nbformat": 4,
  "nbformat_minor": 0,
  "metadata": {
    "colab": {
      "name": "Laboratory_No_6.py",
      "provenance": [],
      "authorship_tag": "ABX9TyO3hYhWM7wZl6dKXRKYudVn",
      "include_colab_link": true
    },
    "kernelspec": {
      "name": "python3",
      "display_name": "Python 3"
    },
    "language_info": {
      "name": "python"
    }
  },
  "cells": [
    {
      "cell_type": "markdown",
      "metadata": {
        "id": "view-in-github",
        "colab_type": "text"
      },
      "source": [
        "<a href=\"https://colab.research.google.com/github/kcisidro/Syndicate/blob/main/Laboratory_No_6_py.ipynb\" target=\"_parent\"><img src=\"https://colab.research.google.com/assets/colab-badge.svg\" alt=\"Open In Colab\"/></a>"
      ]
    },
    {
      "cell_type": "code",
      "execution_count": null,
      "metadata": {
        "id": "a6oYaDjAeKE-"
      },
      "outputs": [],
      "source": [
        "from tkinter import *\n",
        "\n",
        "class Mywindow:\n",
        "    def __init__(self, win):\n",
        "        self.lbl1 = Label(window, text=\"Semestral Grade Calculator\", font=(\"Arial\", 16))\n",
        "        self.lbl1.place(x=25, y=20)\n",
        "\n",
        "        self.lbl2 = Label(window, text=\"Prelim Grade:\")\n",
        "        self.lbl2.place(x=25, y=70)\n",
        "        self.Ent1 = Entry(window, bd=2, justify=\"center\")\n",
        "        self.Ent1.place(x=150, y=70)\n",
        "        self.Ent1.insert(0, \"80\")\n",
        "\n",
        "        self.lbl3 = Label(window, text=\"Midterm Grade:\")\n",
        "        self.lbl3.place(x=25, y=110)\n",
        "        self.Ent2 = Entry(window, bd=2, justify=\"center\")\n",
        "        self.Ent2.place(x=150, y=110)\n",
        "        self.Ent2.insert(0, \"80\")\n",
        "\n",
        "        self.lbl4 = Label(window, text=\"Finals Grade:\")\n",
        "        self.lbl4.place(x=25, y=150)\n",
        "        self.Ent3 = Entry(window, bd=2, justify=\"center\")\n",
        "        self.Ent3.place(x=150, y=150)\n",
        "        self.Ent3.insert(0, \"80\")\n",
        "\n",
        "        self.lbl5 = Label(window, text=\"Total Grade:\")\n",
        "        self.lbl5.place(x=25, y=190)\n",
        "        self.Ent4 = Entry(window, bd=2, justify=\"center\")\n",
        "        self.Ent4.place(x=150, y=190)\n",
        "        self.Ent4.insert(0, \"80\")\n",
        "\n",
        "        self.btn = Button(window, text=\"Compute Total Grade\", width=\"35\", bg=\"cyan\", command=self.compute)\n",
        "        self.btn.place(x=25, y=230)\n",
        "\n",
        "    def compute(self):\n",
        "        prelims = float(self.Ent1.get())\n",
        "        midterms = float(self.Ent2.get())\n",
        "        finals = float(self.Ent3.get())\n",
        "        grade = prelims*.3 + midterms*.3 + finals*.4\n",
        "        self.Ent4.delete(0, 'end')\n",
        "        self.Ent4.insert(0, grade)\n",
        "\n",
        "window = Tk()\n",
        "mywin = Mywindow(window)\n",
        "window.geometry(\"320x300+20+50\")\n",
        "window.title(\"Semestral Grade Calculator\")\n",
        "\n",
        "window.mainloop()"
      ]
    }
  ]
}